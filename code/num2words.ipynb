{
 "cells": [
  {
   "cell_type": "code",
   "execution_count": 1,
   "metadata": {},
   "outputs": [],
   "source": [
    "import pandas as pd\n",
    "import num2words\n",
    "import re\n"
   ]
  },
  {
   "cell_type": "code",
   "execution_count": 3,
   "metadata": {},
   "outputs": [],
   "source": [
    "with open('C:/Users/Ashima Singhal/Desktop/scweet/output/output.txt', 'r', encoding=\"utf-8\") as f_input:\n",
    "    text = f_input.read()\n",
    "\n",
    "text = re.sub(r\"(\\d+)\", lambda x: num2words.num2words(int(x.group(0))), text)\n",
    "\n",
    "with open('C:/Users/Ashima Singhal/Desktop/scweet/output/finaloutput.txt', 'w', encoding=\"utf-8\") as f_output:\n",
    "    f_output.write(text)\n",
    "\n",
    "\n",
    "\n",
    "# with open('C:/Users/Ashima Singhal/Desktop/scweetoutput.txt', 'w', encoding=\"utf-8\") as f_output:\n",
    "#     f_output.write(text)"
   ]
  },
  {
   "cell_type": "code",
   "execution_count": null,
   "metadata": {},
   "outputs": [],
   "source": []
  }
 ],
 "metadata": {
  "kernelspec": {
   "display_name": "Python 3",
   "language": "python",
   "name": "python3"
  },
  "language_info": {
   "codemirror_mode": {
    "name": "ipython",
    "version": 3
   },
   "file_extension": ".py",
   "mimetype": "text/x-python",
   "name": "python",
   "nbconvert_exporter": "python",
   "pygments_lexer": "ipython3",
   "version": "3.7.6"
  }
 },
 "nbformat": 4,
 "nbformat_minor": 4
}
